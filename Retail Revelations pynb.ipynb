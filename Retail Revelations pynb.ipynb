{
 "cells": [
  {
   "cell_type": "markdown",
   "id": "9004e7f4",
   "metadata": {},
   "source": [
    "# Project Title:"
   ]
  },
  {
   "cell_type": "markdown",
   "id": "e19a294e",
   "metadata": {},
   "source": [
    " ## Retail Revelations: Navigating Superstore Insights"
   ]
  },
  {
   "cell_type": "code",
   "execution_count": 1,
   "id": "5791d5b2",
   "metadata": {},
   "outputs": [],
   "source": [
    "# Importing the Libraries"
   ]
  },
  {
   "cell_type": "code",
   "execution_count": 2,
   "id": "3565749c",
   "metadata": {},
   "outputs": [],
   "source": [
    "import pandas as pd\n",
    "import numpy as np\n",
    "import matplotlib.pyplot as plt\n",
    "\n",
    "#visualization\n",
    "import seaborn as sns  "
   ]
  },
  {
   "cell_type": "code",
   "execution_count": 3,
   "id": "3cd2ef06",
   "metadata": {},
   "outputs": [],
   "source": [
    "# Importing the dataset"
   ]
  },
  {
   "cell_type": "code",
   "execution_count": 4,
   "id": "cb10914b",
   "metadata": {},
   "outputs": [],
   "source": [
    "df = pd.read_csv(\"Analysis of Super Store - DA.csv\")"
   ]
  },
  {
   "cell_type": "code",
   "execution_count": 5,
   "id": "18827421",
   "metadata": {},
   "outputs": [],
   "source": [
    "# Printing the dataset (First Five Rows)"
   ]
  },
  {
   "cell_type": "code",
   "execution_count": 6,
   "id": "0e6b69ab",
   "metadata": {
    "scrolled": false
   },
   "outputs": [
    {
     "data": {
      "text/html": [
       "<div>\n",
       "<style scoped>\n",
       "    .dataframe tbody tr th:only-of-type {\n",
       "        vertical-align: middle;\n",
       "    }\n",
       "\n",
       "    .dataframe tbody tr th {\n",
       "        vertical-align: top;\n",
       "    }\n",
       "\n",
       "    .dataframe thead th {\n",
       "        text-align: right;\n",
       "    }\n",
       "</style>\n",
       "<table border=\"1\" class=\"dataframe\">\n",
       "  <thead>\n",
       "    <tr style=\"text-align: right;\">\n",
       "      <th></th>\n",
       "      <th>Ship Mode</th>\n",
       "      <th>Segment</th>\n",
       "      <th>Country</th>\n",
       "      <th>City</th>\n",
       "      <th>State</th>\n",
       "      <th>Postal Code</th>\n",
       "      <th>Region</th>\n",
       "      <th>Category</th>\n",
       "      <th>Sub-Category</th>\n",
       "      <th>Sales</th>\n",
       "      <th>Quantity</th>\n",
       "      <th>Discount</th>\n",
       "      <th>Profit</th>\n",
       "    </tr>\n",
       "  </thead>\n",
       "  <tbody>\n",
       "    <tr>\n",
       "      <th>0</th>\n",
       "      <td>Second Class</td>\n",
       "      <td>Consumer</td>\n",
       "      <td>United States</td>\n",
       "      <td>Henderson</td>\n",
       "      <td>Kentucky</td>\n",
       "      <td>42420</td>\n",
       "      <td>South</td>\n",
       "      <td>Furniture</td>\n",
       "      <td>Bookcases</td>\n",
       "      <td>261.9600</td>\n",
       "      <td>2</td>\n",
       "      <td>0.00</td>\n",
       "      <td>41.9136</td>\n",
       "    </tr>\n",
       "    <tr>\n",
       "      <th>1</th>\n",
       "      <td>Second Class</td>\n",
       "      <td>Consumer</td>\n",
       "      <td>United States</td>\n",
       "      <td>Henderson</td>\n",
       "      <td>Kentucky</td>\n",
       "      <td>42420</td>\n",
       "      <td>South</td>\n",
       "      <td>Furniture</td>\n",
       "      <td>Chairs</td>\n",
       "      <td>731.9400</td>\n",
       "      <td>3</td>\n",
       "      <td>0.00</td>\n",
       "      <td>219.5820</td>\n",
       "    </tr>\n",
       "    <tr>\n",
       "      <th>2</th>\n",
       "      <td>Second Class</td>\n",
       "      <td>Corporate</td>\n",
       "      <td>United States</td>\n",
       "      <td>Los Angeles</td>\n",
       "      <td>California</td>\n",
       "      <td>90036</td>\n",
       "      <td>West</td>\n",
       "      <td>Office Supplies</td>\n",
       "      <td>Labels</td>\n",
       "      <td>14.6200</td>\n",
       "      <td>2</td>\n",
       "      <td>0.00</td>\n",
       "      <td>6.8714</td>\n",
       "    </tr>\n",
       "    <tr>\n",
       "      <th>3</th>\n",
       "      <td>Standard Class</td>\n",
       "      <td>Consumer</td>\n",
       "      <td>United States</td>\n",
       "      <td>Fort Lauderdale</td>\n",
       "      <td>Florida</td>\n",
       "      <td>33311</td>\n",
       "      <td>South</td>\n",
       "      <td>Furniture</td>\n",
       "      <td>Tables</td>\n",
       "      <td>957.5775</td>\n",
       "      <td>5</td>\n",
       "      <td>0.45</td>\n",
       "      <td>-383.0310</td>\n",
       "    </tr>\n",
       "    <tr>\n",
       "      <th>4</th>\n",
       "      <td>Standard Class</td>\n",
       "      <td>Consumer</td>\n",
       "      <td>United States</td>\n",
       "      <td>Fort Lauderdale</td>\n",
       "      <td>Florida</td>\n",
       "      <td>33311</td>\n",
       "      <td>South</td>\n",
       "      <td>Office Supplies</td>\n",
       "      <td>Storage</td>\n",
       "      <td>22.3680</td>\n",
       "      <td>2</td>\n",
       "      <td>0.20</td>\n",
       "      <td>2.5164</td>\n",
       "    </tr>\n",
       "  </tbody>\n",
       "</table>\n",
       "</div>"
      ],
      "text/plain": [
       "        Ship Mode    Segment        Country             City       State  \\\n",
       "0    Second Class   Consumer  United States        Henderson    Kentucky   \n",
       "1    Second Class   Consumer  United States        Henderson    Kentucky   \n",
       "2    Second Class  Corporate  United States      Los Angeles  California   \n",
       "3  Standard Class   Consumer  United States  Fort Lauderdale     Florida   \n",
       "4  Standard Class   Consumer  United States  Fort Lauderdale     Florida   \n",
       "\n",
       "   Postal Code Region         Category Sub-Category     Sales  Quantity  \\\n",
       "0        42420  South        Furniture    Bookcases  261.9600         2   \n",
       "1        42420  South        Furniture       Chairs  731.9400         3   \n",
       "2        90036   West  Office Supplies       Labels   14.6200         2   \n",
       "3        33311  South        Furniture       Tables  957.5775         5   \n",
       "4        33311  South  Office Supplies      Storage   22.3680         2   \n",
       "\n",
       "   Discount    Profit  \n",
       "0      0.00   41.9136  \n",
       "1      0.00  219.5820  \n",
       "2      0.00    6.8714  \n",
       "3      0.45 -383.0310  \n",
       "4      0.20    2.5164  "
      ]
     },
     "execution_count": 6,
     "metadata": {},
     "output_type": "execute_result"
    }
   ],
   "source": [
    "df.head()"
   ]
  },
  {
   "cell_type": "code",
   "execution_count": 44,
   "id": "05e293d1",
   "metadata": {},
   "outputs": [
    {
     "data": {
      "text/html": [
       "<div>\n",
       "<style scoped>\n",
       "    .dataframe tbody tr th:only-of-type {\n",
       "        vertical-align: middle;\n",
       "    }\n",
       "\n",
       "    .dataframe tbody tr th {\n",
       "        vertical-align: top;\n",
       "    }\n",
       "\n",
       "    .dataframe thead th {\n",
       "        text-align: right;\n",
       "    }\n",
       "</style>\n",
       "<table border=\"1\" class=\"dataframe\">\n",
       "  <thead>\n",
       "    <tr style=\"text-align: right;\">\n",
       "      <th></th>\n",
       "      <th>Ship Mode</th>\n",
       "      <th>Segment</th>\n",
       "      <th>Country</th>\n",
       "      <th>City</th>\n",
       "      <th>State</th>\n",
       "      <th>Region</th>\n",
       "      <th>Category</th>\n",
       "      <th>Sub-Category</th>\n",
       "      <th>Sales</th>\n",
       "      <th>Quantity</th>\n",
       "      <th>Discount</th>\n",
       "      <th>Profit</th>\n",
       "    </tr>\n",
       "  </thead>\n",
       "  <tbody>\n",
       "    <tr>\n",
       "      <th>9989</th>\n",
       "      <td>Second Class</td>\n",
       "      <td>Consumer</td>\n",
       "      <td>United States</td>\n",
       "      <td>Miami</td>\n",
       "      <td>Florida</td>\n",
       "      <td>South</td>\n",
       "      <td>Furniture</td>\n",
       "      <td>Furnishings</td>\n",
       "      <td>25.248</td>\n",
       "      <td>3</td>\n",
       "      <td>0.2</td>\n",
       "      <td>25.048</td>\n",
       "    </tr>\n",
       "    <tr>\n",
       "      <th>9990</th>\n",
       "      <td>Standard Class</td>\n",
       "      <td>Consumer</td>\n",
       "      <td>United States</td>\n",
       "      <td>Costa Mesa</td>\n",
       "      <td>California</td>\n",
       "      <td>West</td>\n",
       "      <td>Furniture</td>\n",
       "      <td>Furnishings</td>\n",
       "      <td>91.960</td>\n",
       "      <td>2</td>\n",
       "      <td>0.0</td>\n",
       "      <td>91.960</td>\n",
       "    </tr>\n",
       "    <tr>\n",
       "      <th>9991</th>\n",
       "      <td>Standard Class</td>\n",
       "      <td>Consumer</td>\n",
       "      <td>United States</td>\n",
       "      <td>Costa Mesa</td>\n",
       "      <td>California</td>\n",
       "      <td>West</td>\n",
       "      <td>Technology</td>\n",
       "      <td>Phones</td>\n",
       "      <td>258.576</td>\n",
       "      <td>2</td>\n",
       "      <td>0.2</td>\n",
       "      <td>258.376</td>\n",
       "    </tr>\n",
       "    <tr>\n",
       "      <th>9992</th>\n",
       "      <td>Standard Class</td>\n",
       "      <td>Consumer</td>\n",
       "      <td>United States</td>\n",
       "      <td>Costa Mesa</td>\n",
       "      <td>California</td>\n",
       "      <td>West</td>\n",
       "      <td>Office Supplies</td>\n",
       "      <td>Paper</td>\n",
       "      <td>29.600</td>\n",
       "      <td>4</td>\n",
       "      <td>0.0</td>\n",
       "      <td>29.600</td>\n",
       "    </tr>\n",
       "    <tr>\n",
       "      <th>9993</th>\n",
       "      <td>Second Class</td>\n",
       "      <td>Consumer</td>\n",
       "      <td>United States</td>\n",
       "      <td>Westminster</td>\n",
       "      <td>California</td>\n",
       "      <td>West</td>\n",
       "      <td>Office Supplies</td>\n",
       "      <td>Appliances</td>\n",
       "      <td>243.160</td>\n",
       "      <td>2</td>\n",
       "      <td>0.0</td>\n",
       "      <td>243.160</td>\n",
       "    </tr>\n",
       "  </tbody>\n",
       "</table>\n",
       "</div>"
      ],
      "text/plain": [
       "           Ship Mode   Segment        Country         City       State Region  \\\n",
       "9989    Second Class  Consumer  United States        Miami     Florida  South   \n",
       "9990  Standard Class  Consumer  United States   Costa Mesa  California   West   \n",
       "9991  Standard Class  Consumer  United States   Costa Mesa  California   West   \n",
       "9992  Standard Class  Consumer  United States   Costa Mesa  California   West   \n",
       "9993    Second Class  Consumer  United States  Westminster  California   West   \n",
       "\n",
       "             Category Sub-Category    Sales  Quantity  Discount   Profit  \n",
       "9989        Furniture  Furnishings   25.248         3       0.2   25.048  \n",
       "9990        Furniture  Furnishings   91.960         2       0.0   91.960  \n",
       "9991       Technology       Phones  258.576         2       0.2  258.376  \n",
       "9992  Office Supplies        Paper   29.600         4       0.0   29.600  \n",
       "9993  Office Supplies   Appliances  243.160         2       0.0  243.160  "
      ]
     },
     "execution_count": 44,
     "metadata": {},
     "output_type": "execute_result"
    }
   ],
   "source": [
    "# Printing the dataset (Last Five Rows)\n",
    "df.tail()"
   ]
  },
  {
   "cell_type": "code",
   "execution_count": 9,
   "id": "5b42a924",
   "metadata": {},
   "outputs": [],
   "source": [
    "# Shape (Rows, Columns)"
   ]
  },
  {
   "cell_type": "code",
   "execution_count": 10,
   "id": "a04f00b8",
   "metadata": {},
   "outputs": [
    {
     "data": {
      "text/plain": [
       "(9994, 13)"
      ]
     },
     "execution_count": 10,
     "metadata": {},
     "output_type": "execute_result"
    }
   ],
   "source": [
    "df.shape"
   ]
  },
  {
   "cell_type": "code",
   "execution_count": 11,
   "id": "c2d8938c",
   "metadata": {},
   "outputs": [],
   "source": [
    "# Statistical summary of the dataset"
   ]
  },
  {
   "cell_type": "code",
   "execution_count": 12,
   "id": "b45897c9",
   "metadata": {},
   "outputs": [
    {
     "data": {
      "text/html": [
       "<div>\n",
       "<style scoped>\n",
       "    .dataframe tbody tr th:only-of-type {\n",
       "        vertical-align: middle;\n",
       "    }\n",
       "\n",
       "    .dataframe tbody tr th {\n",
       "        vertical-align: top;\n",
       "    }\n",
       "\n",
       "    .dataframe thead th {\n",
       "        text-align: right;\n",
       "    }\n",
       "</style>\n",
       "<table border=\"1\" class=\"dataframe\">\n",
       "  <thead>\n",
       "    <tr style=\"text-align: right;\">\n",
       "      <th></th>\n",
       "      <th>Postal Code</th>\n",
       "      <th>Sales</th>\n",
       "      <th>Quantity</th>\n",
       "      <th>Discount</th>\n",
       "      <th>Profit</th>\n",
       "    </tr>\n",
       "  </thead>\n",
       "  <tbody>\n",
       "    <tr>\n",
       "      <th>count</th>\n",
       "      <td>9994.000000</td>\n",
       "      <td>9994.000000</td>\n",
       "      <td>9994.000000</td>\n",
       "      <td>9994.000000</td>\n",
       "      <td>9994.000000</td>\n",
       "    </tr>\n",
       "    <tr>\n",
       "      <th>mean</th>\n",
       "      <td>55190.379428</td>\n",
       "      <td>229.858001</td>\n",
       "      <td>3.789574</td>\n",
       "      <td>0.156203</td>\n",
       "      <td>28.656896</td>\n",
       "    </tr>\n",
       "    <tr>\n",
       "      <th>std</th>\n",
       "      <td>32063.693350</td>\n",
       "      <td>623.245101</td>\n",
       "      <td>2.225110</td>\n",
       "      <td>0.206452</td>\n",
       "      <td>234.260108</td>\n",
       "    </tr>\n",
       "    <tr>\n",
       "      <th>min</th>\n",
       "      <td>1040.000000</td>\n",
       "      <td>0.444000</td>\n",
       "      <td>1.000000</td>\n",
       "      <td>0.000000</td>\n",
       "      <td>-6599.978000</td>\n",
       "    </tr>\n",
       "    <tr>\n",
       "      <th>25%</th>\n",
       "      <td>23223.000000</td>\n",
       "      <td>17.280000</td>\n",
       "      <td>2.000000</td>\n",
       "      <td>0.000000</td>\n",
       "      <td>1.728750</td>\n",
       "    </tr>\n",
       "    <tr>\n",
       "      <th>50%</th>\n",
       "      <td>56430.500000</td>\n",
       "      <td>54.490000</td>\n",
       "      <td>3.000000</td>\n",
       "      <td>0.200000</td>\n",
       "      <td>8.666500</td>\n",
       "    </tr>\n",
       "    <tr>\n",
       "      <th>75%</th>\n",
       "      <td>90008.000000</td>\n",
       "      <td>209.940000</td>\n",
       "      <td>5.000000</td>\n",
       "      <td>0.200000</td>\n",
       "      <td>29.364000</td>\n",
       "    </tr>\n",
       "    <tr>\n",
       "      <th>max</th>\n",
       "      <td>99301.000000</td>\n",
       "      <td>22638.480000</td>\n",
       "      <td>14.000000</td>\n",
       "      <td>0.800000</td>\n",
       "      <td>8399.976000</td>\n",
       "    </tr>\n",
       "  </tbody>\n",
       "</table>\n",
       "</div>"
      ],
      "text/plain": [
       "        Postal Code         Sales     Quantity     Discount       Profit\n",
       "count   9994.000000   9994.000000  9994.000000  9994.000000  9994.000000\n",
       "mean   55190.379428    229.858001     3.789574     0.156203    28.656896\n",
       "std    32063.693350    623.245101     2.225110     0.206452   234.260108\n",
       "min     1040.000000      0.444000     1.000000     0.000000 -6599.978000\n",
       "25%    23223.000000     17.280000     2.000000     0.000000     1.728750\n",
       "50%    56430.500000     54.490000     3.000000     0.200000     8.666500\n",
       "75%    90008.000000    209.940000     5.000000     0.200000    29.364000\n",
       "max    99301.000000  22638.480000    14.000000     0.800000  8399.976000"
      ]
     },
     "execution_count": 12,
     "metadata": {},
     "output_type": "execute_result"
    }
   ],
   "source": [
    "df.describe()"
   ]
  },
  {
   "cell_type": "code",
   "execution_count": 45,
   "id": "7cc59600",
   "metadata": {},
   "outputs": [
    {
     "name": "stdout",
     "output_type": "stream",
     "text": [
      "<class 'pandas.core.frame.DataFrame'>\n",
      "RangeIndex: 9994 entries, 0 to 9993\n",
      "Data columns (total 12 columns):\n",
      " #   Column        Non-Null Count  Dtype  \n",
      "---  ------        --------------  -----  \n",
      " 0   Ship Mode     9994 non-null   object \n",
      " 1   Segment       9994 non-null   object \n",
      " 2   Country       9994 non-null   object \n",
      " 3   City          9994 non-null   object \n",
      " 4   State         9994 non-null   object \n",
      " 5   Region        9994 non-null   object \n",
      " 6   Category      9994 non-null   object \n",
      " 7   Sub-Category  9994 non-null   object \n",
      " 8   Sales         9994 non-null   float64\n",
      " 9   Quantity      9994 non-null   int64  \n",
      " 10  Discount      9994 non-null   float64\n",
      " 11  Profit        9994 non-null   float64\n",
      "dtypes: float64(3), int64(1), object(8)\n",
      "memory usage: 937.1+ KB\n"
     ]
    }
   ],
   "source": [
    "# Finding whether they contain null values or not\n",
    "df.info()"
   ]
  },
  {
   "cell_type": "code",
   "execution_count": 15,
   "id": "aafcb484",
   "metadata": {},
   "outputs": [],
   "source": [
    "# deleting the unnecessary column"
   ]
  },
  {
   "cell_type": "code",
   "execution_count": 16,
   "id": "3020d8f7",
   "metadata": {},
   "outputs": [],
   "source": [
    "df.drop(columns = [\"Postal Code\"], inplace = True)"
   ]
  },
  {
   "cell_type": "code",
   "execution_count": 17,
   "id": "f8ec8af9",
   "metadata": {},
   "outputs": [],
   "source": [
    "# finding unique values in given columns"
   ]
  },
  {
   "cell_type": "code",
   "execution_count": 18,
   "id": "949b71e6",
   "metadata": {},
   "outputs": [
    {
     "name": "stdout",
     "output_type": "stream",
     "text": [
      "['Second Class' 'Standard Class' 'First Class' 'Same Day']\n"
     ]
    }
   ],
   "source": [
    "print(df[\"Ship Mode\"].unique())"
   ]
  },
  {
   "cell_type": "code",
   "execution_count": 19,
   "id": "5e079ee7",
   "metadata": {
    "scrolled": true
   },
   "outputs": [
    {
     "name": "stdout",
     "output_type": "stream",
     "text": [
      "['Consumer' 'Corporate' 'Home Office']\n"
     ]
    }
   ],
   "source": [
    "print(df[\"Segment\"].unique())"
   ]
  },
  {
   "cell_type": "code",
   "execution_count": 20,
   "id": "dd7199a6",
   "metadata": {},
   "outputs": [
    {
     "name": "stdout",
     "output_type": "stream",
     "text": [
      "['United States']\n"
     ]
    }
   ],
   "source": [
    "print(df[\"Country\"].unique())"
   ]
  },
  {
   "cell_type": "code",
   "execution_count": 21,
   "id": "5695c543",
   "metadata": {},
   "outputs": [
    {
     "name": "stdout",
     "output_type": "stream",
     "text": [
      "['Furniture' 'Office Supplies' 'Technology']\n"
     ]
    }
   ],
   "source": [
    "print(df[\"Category\"].unique())"
   ]
  },
  {
   "cell_type": "code",
   "execution_count": 22,
   "id": "38a09154",
   "metadata": {},
   "outputs": [
    {
     "name": "stdout",
     "output_type": "stream",
     "text": [
      "['South' 'West' 'Central' 'East']\n"
     ]
    }
   ],
   "source": [
    "print(df[\"Region\"].unique())"
   ]
  },
  {
   "cell_type": "code",
   "execution_count": 46,
   "id": "c1ed5b02",
   "metadata": {},
   "outputs": [
    {
     "data": {
      "text/plain": [
       "Ship Mode          4\n",
       "Segment            3\n",
       "Country            1\n",
       "City             531\n",
       "State             49\n",
       "Region             4\n",
       "Category           3\n",
       "Sub-Category      17\n",
       "Sales           5825\n",
       "Quantity          14\n",
       "Discount          12\n",
       "Profit          6170\n",
       "dtype: int64"
      ]
     },
     "execution_count": 46,
     "metadata": {},
     "output_type": "execute_result"
    }
   ],
   "source": [
    "# Number of unique users and items in the dataset\n",
    "df.nunique()"
   ]
  },
  {
   "cell_type": "code",
   "execution_count": 47,
   "id": "f989cf27",
   "metadata": {},
   "outputs": [
    {
     "data": {
      "text/plain": [
       "63"
      ]
     },
     "execution_count": 47,
     "metadata": {},
     "output_type": "execute_result"
    }
   ],
   "source": [
    "# Check for duplicates\n",
    "df.duplicated().sum()"
   ]
  },
  {
   "cell_type": "code",
   "execution_count": 27,
   "id": "7cf83bc8",
   "metadata": {},
   "outputs": [
    {
     "data": {
      "text/plain": [
       "Ship Mode       0\n",
       "Segment         0\n",
       "Country         0\n",
       "City            0\n",
       "State           0\n",
       "Region          0\n",
       "Category        0\n",
       "Sub-Category    0\n",
       "Sales           0\n",
       "Quantity        0\n",
       "Discount        0\n",
       "Profit          0\n",
       "dtype: int64"
      ]
     },
     "execution_count": 27,
     "metadata": {},
     "output_type": "execute_result"
    }
   ],
   "source": [
    "# check for missing values\n",
    "df.isnull().sum()"
   ]
  },
  {
   "cell_type": "code",
   "execution_count": 28,
   "id": "95d30051",
   "metadata": {},
   "outputs": [
    {
     "data": {
      "text/plain": [
       "Index(['Ship Mode', 'Segment', 'Country', 'City', 'State', 'Region',\n",
       "       'Category', 'Sub-Category', 'Sales', 'Quantity', 'Discount', 'Profit'],\n",
       "      dtype='object')"
      ]
     },
     "execution_count": 28,
     "metadata": {},
     "output_type": "execute_result"
    }
   ],
   "source": [
    "df.columns"
   ]
  },
  {
   "cell_type": "markdown",
   "id": "3d6f741d",
   "metadata": {},
   "source": [
    "# Data Visualization"
   ]
  },
  {
   "cell_type": "markdown",
   "id": "edae5adf",
   "metadata": {},
   "source": [
    "# 1) sales analysis based on region (Bar Chart)"
   ]
  },
  {
   "cell_type": "markdown",
   "id": "b8dc0dbe",
   "metadata": {},
   "source": [
    "Visualize total sales for each region"
   ]
  },
  {
   "cell_type": "code",
   "execution_count": 29,
   "id": "6ec0d9bf",
   "metadata": {},
   "outputs": [],
   "source": [
    "#Group data by region and calculate total sales\n",
    "region_sales = df.groupby(\"Region\")[\"Sales\"].sum().reset_index()"
   ]
  },
  {
   "cell_type": "code",
   "execution_count": 30,
   "id": "6dee699b",
   "metadata": {},
   "outputs": [
    {
     "data": {
      "image/png": "[encoded data removed]",
      "text/plain": [
       "<Figure size 600x400 with 1 Axes>"
      ]
     },
     "metadata": {},
     "output_type": "display_data"
    }
   ],
   "source": [
    "# creating a bar chart\n",
    "plt.figure(figsize=(6, 4))\n",
    "sns.barplot(x=\"Region\", y=\"Sales\", data= region_sales)\n",
    "plt.xlabel(\"Region\")\n",
    "plt.ylabel(\"Total Sales\")\n",
    "plt.title(\"Sales by Region\")\n",
    "#plt.xticks(rotation=45)  \n",
    "plt.show()"
   ]
  },
  {
   "cell_type": "code",
   "execution_count": 31,
   "id": "e8b10158",
   "metadata": {},
   "outputs": [],
   "source": [
    "#Insights:"
   ]
  },
  {
   "cell_type": "raw",
   "id": "39d8a397",
   "metadata": {},
   "source": [
    "1.Western region is the top performer with ~700,000 in sales.\n",
    "2.Southern region follows with ~400,000 in sales."
   ]
  },
  {
   "cell_type": "raw",
   "id": "67ba0645",
   "metadata": {},
   "source": [
    "Improvement Areas:\n",
    "-Analyze reasons behind the sales gap between the Western and Southern regions.\n",
    "-Explore marketing and sales strategies to bridge the gap and potentially boost sales in other regions."
   ]
  },
  {
   "cell_type": "markdown",
   "id": "9fcca733",
   "metadata": {},
   "source": [
    "# 2) Category-wise Sales (Pie Chart)"
   ]
  },
  {
   "cell_type": "markdown",
   "id": "a2dcdb44",
   "metadata": {},
   "source": [
    "Pie chart: show the distribution of sales across different product categories"
   ]
  },
  {
   "cell_type": "code",
   "execution_count": 43,
   "id": "e47de08c",
   "metadata": {},
   "outputs": [],
   "source": [
    "#Group data by category and calculate total sales\n",
    "category_sales = df.groupby(\"Category\")[\"Sales\"].sum().reset_index()"
   ]
  },
  {
   "cell_type": "code",
   "execution_count": 33,
   "id": "e17ef6c4",
   "metadata": {},
   "outputs": [
    {
     "data": {
      "image/png": "[encoded data removed]",
      "text/plain": [
       "<Figure size 500x500 with 1 Axes>"
      ]
     },
     "metadata": {},
     "output_type": "display_data"
    }
   ],
   "source": [
    "plt.figure(figsize=(5, 5))\n",
    "plt.pie(category_sales[\"Sales\"], labels=category_sales[\"Category\"],\n",
    "        autopct=\"%1.1f%%\")\n",
    "plt.title(\"Sales Distribution by Category\")\n",
    "plt.show()"
   ]
  },
  {
   "cell_type": "code",
   "execution_count": 34,
   "id": "b52ca7fa",
   "metadata": {},
   "outputs": [],
   "source": [
    "#Insights:"
   ]
  },
  {
   "cell_type": "raw",
   "id": "c4ae6239",
   "metadata": {},
   "source": [
    "1.Technology leads with 36.4% of total sales.\n",
    "2.Furniture (32.3%) and Office Supplies (31.3%) follow."
   ]
  },
  {
   "cell_type": "raw",
   "id": "beb2e9fb",
   "metadata": {},
   "source": [
    "Improvement Areas:\n",
    "-Consider expanding product offerings within the Technology category based on customer demand and market trends.\n",
    "-Evaluate the profitability of each category (considering both sales and profit margins) to optimize product focus."
   ]
  },
  {
   "cell_type": "markdown",
   "id": "e22bfcaf",
   "metadata": {},
   "source": [
    "# 3) Segment-wise Sales (Bar Chart)"
   ]
  },
  {
   "cell_type": "markdown",
   "id": "53997d2e",
   "metadata": {},
   "source": [
    "Visualize the count of sales for each segment"
   ]
  },
  {
   "cell_type": "markdown",
   "id": "f232e764",
   "metadata": {},
   "source": [
    "Group data by segment and calculate sales count"
   ]
  },
  {
   "cell_type": "code",
   "execution_count": 35,
   "id": "4cf1b2ec",
   "metadata": {},
   "outputs": [
    {
     "data": {
      "image/png": "[encoded data removed]",
      "text/plain": [
       "<Figure size 600x400 with 1 Axes>"
      ]
     },
     "metadata": {},
     "output_type": "display_data"
    }
   ],
   "source": [
    "segment_sales = df.groupby(\"Segment\")[\"Sales\"].sum().reset_index()\n",
    "plt.figure(figsize=(6, 4))\n",
    "sns.barplot(x=\"Segment\", y=\"Sales\", data=segment_sales)\n",
    "plt.xlabel(\"Segment\")\n",
    "plt.ylabel(\"Total Sales\")\n",
    "plt.title(\"Segment-wise Sales\")\n",
    "#plt.xticks(rotation=45)  \n",
    "plt.show()"
   ]
  },
  {
   "cell_type": "code",
   "execution_count": 36,
   "id": "484c1066",
   "metadata": {},
   "outputs": [],
   "source": [
    "#Insights:"
   ]
  },
  {
   "cell_type": "raw",
   "id": "ac6c761b",
   "metadata": {},
   "source": [
    "1.Consumer segment has the highest sales count \n",
    "2.Corporate and Home Office segments follow with ~0.7 and ~0.4 orders, respectively"
   ]
  },
  {
   "cell_type": "raw",
   "id": "959ed1bf",
   "metadata": {},
   "source": [
    "Improvement Areas:\n",
    "-Investigate reasons behind the lower sales in Corporate and Home Office segments.\n",
    "-Develop targeted marketing campaigns and promotional strategies to attract and retain customers in these segments."
   ]
  },
  {
   "cell_type": "markdown",
   "id": "3a1a8188",
   "metadata": {},
   "source": [
    "# 4) Shipping Mode Distribution (Bar Chart)"
   ]
  },
  {
   "cell_type": "markdown",
   "id": "71f04ddf",
   "metadata": {},
   "source": [
    "Display the count of each shipping mode"
   ]
  },
  {
   "cell_type": "code",
   "execution_count": 37,
   "id": "fd0f700e",
   "metadata": {},
   "outputs": [
    {
     "data": {
      "image/png": "[encoded data removed]",
      "text/plain": [
       "<Figure size 700x500 with 1 Axes>"
      ]
     },
     "metadata": {},
     "output_type": "display_data"
    }
   ],
   "source": [
    "# Get unique shipping modes\n",
    "shipping_modes = df[\"Ship Mode\"].unique()\n",
    "\n",
    "# Count occurrences of each shipping mode\n",
    "shipping_mode_counts = df[\"Ship Mode\"].value_counts()\n",
    "\n",
    "# Create a bar chart\n",
    "plt.figure(figsize=(7, 5))\n",
    "sns.barplot(x=shipping_modes, y=shipping_mode_counts)\n",
    "plt.xlabel(\"Shipping Mode\")\n",
    "plt.ylabel(\"Count\")\n",
    "plt.title(\"Shipping Mode Distribution\")\n",
    "#plt.xticks(rotation=45) \n",
    "plt.show()"
   ]
  },
  {
   "cell_type": "code",
   "execution_count": 38,
   "id": "ca159176",
   "metadata": {},
   "outputs": [],
   "source": [
    "#Insights:"
   ]
  },
  {
   "cell_type": "raw",
   "id": "418591fb",
   "metadata": {},
   "source": [
    "1.Second ClassShipping is the most popular option counts (6000)\n",
    "2.Standard Class counts (2000), First Class counts (1500) and Same Day counts are used less frequently counts(1000)"
   ]
  },
  {
   "cell_type": "raw",
   "id": "670a997e",
   "metadata": {},
   "source": [
    "Improvement Areas:\n",
    "-Analyze customer preferences and needs for different shipping options.\n",
    "-Explore offering competitive pricing or bundled promotions for alternative shipping modes (Express and Same Day) to encourage their use."
   ]
  },
  {
   "cell_type": "markdown",
   "id": "ff334468",
   "metadata": {},
   "source": [
    "# 5) Profit Analysis (Bar/Line Chart)"
   ]
  },
  {
   "cell_type": "markdown",
   "id": "630611bf",
   "metadata": {},
   "source": [
    "Analyze profit distribution by category (Bar Plot)"
   ]
  },
  {
   "cell_type": "code",
   "execution_count": 39,
   "id": "1c0c4677",
   "metadata": {},
   "outputs": [
    {
     "data": {
      "image/png": "[encoded data removed]",
      "text/plain": [
       "<Figure size 700x400 with 1 Axes>"
      ]
     },
     "metadata": {},
     "output_type": "display_data"
    }
   ],
   "source": [
    "# Calculate profit by category (assuming \"Profit\" and \"Discount\" exist)\n",
    "df[\"Profit\"] = df[\"Sales\"] - df[\"Discount\"]\n",
    "category_profit = df.groupby(\"Category\")[\"Profit\"].sum().reset_index()\n",
    "\n",
    "# Bar chart\n",
    "plt.figure(figsize=(7, 4))\n",
    "sns.barplot(x=\"Category\", y=\"Profit\", data=category_profit)\n",
    "plt.xlabel(\"Category\")\n",
    "plt.ylabel(\"Profit\")\n",
    "plt.title(\"Profit Distribution by Category\")\n",
    "#plt.xticks(rotation=45) \n",
    "plt.show()"
   ]
  },
  {
   "cell_type": "markdown",
   "id": "15bacf89",
   "metadata": {},
   "source": [
    "Analyze profit distribution by category (Line Plot)"
   ]
  },
  {
   "cell_type": "code",
   "execution_count": 40,
   "id": "f9c979ca",
   "metadata": {},
   "outputs": [
    {
     "data": {
      "image/png": "[encoded data removed]",
      "text/plain": [
       "<Figure size 700x400 with 1 Axes>"
      ]
     },
     "metadata": {},
     "output_type": "display_data"
    }
   ],
   "source": [
    "# Line chart\n",
    "plt.figure(figsize=(7, 4))\n",
    "sns.lineplot(x=\"Category\", y=\"Profit\", data=category_profit)\n",
    "plt.xlabel(\"Category\")\n",
    "plt.ylabel(\"Profit\")\n",
    "plt.title(\"Profit Distribution by Category\")\n",
    "#plt.xticks(rotation=45) \n",
    "plt.show()"
   ]
  },
  {
   "cell_type": "code",
   "execution_count": 41,
   "id": "2a25664c",
   "metadata": {},
   "outputs": [],
   "source": [
    "#Insights:"
   ]
  },
  {
   "cell_type": "raw",
   "id": "15cd2dd3",
   "metadata": {},
   "source": [
    "1.\"Technology\" has the highest overall profit.\n",
    "2.\"Furniture\" (740,000) and Office Supplies (720,000) follow."
   ]
  },
  {
   "cell_type": "raw",
   "id": "156e7699",
   "metadata": {},
   "source": [
    "Improvement Areas:\n",
    "-Investigate cost factors influencing profit margins across categories (e.g., production costs, discounts). \n",
    "-Optimize pricing strategies based on profitability and market competition to maximize overall profit."
   ]
  },
  {
   "cell_type": "markdown",
   "id": "0b8ff2b8",
   "metadata": {},
   "source": [
    "# Conclusion:"
   ]
  },
  {
   "cell_type": "raw",
   "id": "24e543e1",
   "metadata": {},
   "source": [
    "Analysis reveals the Western region and Technology category as top performers in sales, while the Consumer segment leads in order count. \n",
    "Second Class reigns supreme, with potential for growth in alternative options. Technology leads in profit, but profitability analysis across categories is crucial.\n",
    "\n",
    "Improvement opportunities lie in:\n",
    "\n",
    ". Bridging regional sales gaps\n",
    ". Optimizing product offerings and focus\n",
    ". Attracting customers in specific segments\n",
    ". Exploring alternative shipping strategies\n",
    ". Maximizing profit through cost analysis and pricing optimization\n",
    ". These insights provide a springboard for further exploration and strategic decision-making to enhance overall retail performance."
   ]
  },
  {
   "cell_type": "markdown",
   "id": "0d924801",
   "metadata": {},
   "source": [
    "# THANK YOU!"
   ]
  },
  {
   "cell_type": "code",
   "execution_count": null,
   "id": "058d51fe",
   "metadata": {},
   "outputs": [],
   "source": []
  }
 ],
 "metadata": {
  "kernelspec": {
   "display_name": "Python 3 (ipykernel)",
   "language": "python",
   "name": "python3"
  },
  "language_info": {
   "codemirror_mode": {
    "name": "ipython",
    "version": 3
   },
   "file_extension": ".py",
   "mimetype": "text/x-python",
   "name": "python",
   "nbconvert_exporter": "python",
   "pygments_lexer": "ipython3",
   "version": "3.10.9"
  }
 },
 "nbformat": 4,
 "nbformat_minor": 5
}
